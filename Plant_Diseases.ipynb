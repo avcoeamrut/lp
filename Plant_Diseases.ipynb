{
 "cells": [
  {
   "cell_type": "code",
   "execution_count": 1,
   "id": "9f961247-d6d5-47cd-9d0d-bc2b451426be",
   "metadata": {},
   "outputs": [],
   "source": [
    "from tensorflow.keras.preprocessing.image import ImageDataGenerator, load_img,img_to_array"
   ]
  },
  {
   "cell_type": "code",
   "execution_count": null,
   "id": "a426208c-6941-4915-bd8d-b946c14f3342",
   "metadata": {},
   "outputs": [],
   "source": [
    "train_dir = r'D:\\DL Practical\\New Plant Diseases Dataset(Augmented)\\train'\n",
    "val_dir = r'D:\\DL Practical\\New Plant Diseases Dataset(Augmented)\\valid'"
   ]
  },
  {
   "cell_type": "code",
   "execution_count": null,
   "id": "b02ac636-63e9-4920-a4bc-88baff982705",
   "metadata": {},
   "outputs": [],
   "source": [
    "img_size = 224\n",
    "batch_size = 32"
   ]
  },
  {
   "cell_type": "code",
   "execution_count": null,
   "id": "6b8171ea-8fda-46e9-8429-c27f1eb005d7",
   "metadata": {},
   "outputs": [],
   "source": [
    "train_datagen = ImageDataGenerator(rescale=1./255)\n",
    "train_generator = train_datagen.flow_from_directory(train_dir,target_size=(img_size,␣img_size),batch_size=batch_size,class_mode='categorical')"
   ]
  },
  {
   "cell_type": "code",
   "execution_count": null,
   "id": "3a78b6d6-dad5-43ea-9090-3fd14e3c9033",
   "metadata": {},
   "outputs": [],
   "source": [
    "val_datagen = ImageDataGenerator(rescale=1./255)\n",
    "val_generator = val_datagen.flow_from_directory(val_dir,target_size=(img_size,img_size),batch_size=batch_size,class_mode='categorical')"
   ]
  },
  {
   "cell_type": "code",
   "execution_count": null,
   "id": "05776704-88ad-40c8-b953-e1db2b3a603e",
   "metadata": {},
   "outputs": [],
   "source": [
    "list(train_generator.class_indices)"
   ]
  },
  {
   "cell_type": "code",
   "execution_count": null,
   "id": "511a9993-d563-451e-9607-cd73b595d051",
   "metadata": {},
   "outputs": [],
   "source": [
    "from tensorflow.keras.models import Sequential\n",
    "from tensorflow.keras.layers import Conv2D, MaxPooling2D, Flatten, Dense,Dropout, BatchNormalization"
   ]
  },
  {
   "cell_type": "code",
   "execution_count": null,
   "id": "17d16b28-372c-4856-b1c5-d65d29b88d99",
   "metadata": {},
   "outputs": [],
   "source": [
    " model = Sequential()\n",
    " model.add((Conv2D(32, (3,3), activation='relu', input_shape=(img_size,img_size, 3))))\n",
    " model.add(BatchNormalization())\n",
    " model.add((MaxPooling2D(2,2)))\n",
    " model.add((Conv2D(64, (3,3), activation='relu')))\n",
    " model.add(BatchNormalization())\n",
    " model.add((MaxPooling2D(2,2)))\n",
    " model.add((Conv2D(64, (3,3), activation='relu')))\n",
    " model.add(BatchNormalization())\n",
    " model.add((MaxPooling2D(2,2)))\n",
    " model.add((Conv2D(128, (3,3), activation='relu')))\n",
    " model.add(BatchNormalization())\n",
    " model.add((MaxPooling2D(2,2)))\n",
    " model.add((Flatten()))\n",
    " model.add((Dense(128, activation='relu')))\n",
    " model.add((Dropout(0.2)))\n",
    " model.add((Dense(64, activation='relu')))\n",
    " model.add((Dense(train_generator.num_classes, activation='softmax')))\n",
    " model.summary()"
   ]
  },
  {
   "cell_type": "code",
   "execution_count": null,
   "id": "3ec35545-7787-4ed7-92cc-cadf9646432e",
   "metadata": {},
   "outputs": [],
   "source": [
    "model.compile(optimizer='adam', loss='categorical_crossentropy',metrics=['accuracy'])"
   ]
  },
  {
   "cell_type": "code",
   "execution_count": null,
   "id": "c58b0e01-615d-486d-a69f-186917914885",
   "metadata": {},
   "outputs": [],
   "source": [
    "model.fit(train_generator, epochs=50, validation_data=val_generator"
   ]
  },
  {
   "cell_type": "code",
   "execution_count": null,
   "id": "8e4a0b5a-cca4-45b1-919e-e3819c27471a",
   "metadata": {},
   "outputs": [],
   "source": [
    "loss, accuracy = model.evaluate(val_generator)\n",
    "print(\"Loss :\",loss)\n",
    "print(\"Accuracy (Test Data) :\",accuracy*100)"
   ]
  },
  {
   "cell_type": "code",
   "execution_count": null,
   "id": "4f69b166-eacd-4662-a33a-18ad6646825f",
   "metadata": {},
   "outputs": [],
   "source": [
    "import numpy as np\n",
    "img_path =r'D:\\DL Practical\\New Plant Diseases Dataset(Augmented)\\valid\\Tomato___Early_blight\\5b86ab6a-3823-4886-85fd-02190898563c___RS_Erly.B 8452.JPG'\n",
    "img = load_img(img_path, target_size=(224, 224))\n",
    "img_array = img_to_array(img)\n",
    "img_array = np.expand_dims(img_array, axis=0)\n",
    "img_array /= 255"
   ]
  },
  {
   "cell_type": "code",
   "execution_count": null,
   "id": "91a567fd-fd14-48ef-8673-a79098e80399",
   "metadata": {},
   "outputs": [],
   "source": [
    "prediction = model.predict(img_array)\n",
    "class_names=['Tomato___Bacterial_spot', 'Tomato___Early_blight','Tomato___healthy']"
   ]
  },
  {
   "cell_type": "code",
   "execution_count": null,
   "id": "c9f5b7f2-b28f-478c-a8cc-7f819445c7cf",
   "metadata": {},
   "outputs": [],
   "source": [
    "predicted_class = np.argmax(prediction)\n",
    "print(prediction)\n",
    "print(predicted_class)\n",
    "print('Predicted class:', class_names[predicted_class])"
   ]
  }
 ],
 "metadata": {
  "kernelspec": {
   "display_name": "Python 3 (ipykernel)",
   "language": "python",
   "name": "python3"
  },
  "language_info": {
   "codemirror_mode": {
    "name": "ipython",
    "version": 3
   },
   "file_extension": ".py",
   "mimetype": "text/x-python",
   "name": "python",
   "nbconvert_exporter": "python",
   "pygments_lexer": "ipython3",
   "version": "3.11.3"
  }
 },
 "nbformat": 4,
 "nbformat_minor": 5
}
